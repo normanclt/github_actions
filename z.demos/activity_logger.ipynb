{
 "cells": [
  {
   "cell_type": "code",
   "execution_count": 1,
   "metadata": {},
   "outputs": [],
   "source": [
    "import sys\n",
    "sys.path.append(\"../\")"
   ]
  },
  {
   "cell_type": "code",
   "execution_count": 2,
   "metadata": {},
   "outputs": [],
   "source": [
    "from services.activity_logger import Activity_Logger"
   ]
  },
  {
   "cell_type": "code",
   "execution_count": 5,
   "metadata": {},
   "outputs": [],
   "source": []
  },
  {
   "cell_type": "code",
   "execution_count": 6,
   "metadata": {},
   "outputs": [
    {
     "name": "stderr",
     "output_type": "stream",
     "text": [
      "ic| activity_logger.py:17 in __new__() at 00:32:19.995\n",
      "ic| activity_logger.py:19 in __new__() at 00:32:20.001\n",
      "ic| activity_logger.py:24 in __init__() at 00:32:20.008\n"
     ]
    },
    {
     "name": "stdout",
     "output_type": "stream",
     "text": [
      "Existing instance found!\n",
      "Instance Returned\n"
     ]
    }
   ],
   "source": [
    "activity = {\"source_commit_sha\":\"AGAIN_CHECKWHERETHISIS123abc456def123abc\",\"completed_sync_commit_sha\":\"new123abc456def123abc\"}\n",
    "activity_logger = Activity_Logger(activity,True)"
   ]
  },
  {
   "cell_type": "code",
   "execution_count": 5,
   "metadata": {},
   "outputs": [],
   "source": [
    "data = activity_logger.get_latest_activity()\n"
   ]
  },
  {
   "cell_type": "code",
   "execution_count": 6,
   "metadata": {},
   "outputs": [
    {
     "ename": "AttributeError",
     "evalue": "'Activity_Logger' object has no attribute 'filename'",
     "output_type": "error",
     "traceback": [
      "\u001b[1;31m---------------------------------------------------------------------------\u001b[0m",
      "\u001b[1;31mAttributeError\u001b[0m                            Traceback (most recent call last)",
      "\u001b[1;32md:\\DEV\\github_actions\\z.demos\\activity_logger.ipynb Cell 6\u001b[0m line \u001b[0;36m1\n\u001b[1;32m----> <a href='vscode-notebook-cell:/d%3A/DEV/github_actions/z.demos/activity_logger.ipynb#W5sZmlsZQ%3D%3D?line=0'>1</a>\u001b[0m activities \u001b[39m=\u001b[39m activity_logger\u001b[39m.\u001b[39;49mget_activities(\u001b[39m2\u001b[39;49m)\n",
      "File \u001b[1;32md:\\DEV\\github_actions\\z.demos\\..\\services\\activity_logger.py:43\u001b[0m, in \u001b[0;36mActivity_Logger.get_activities\u001b[1;34m(self, activity_line_number)\u001b[0m\n\u001b[0;32m     42\u001b[0m \u001b[39mdef\u001b[39;00m \u001b[39mget_activities\u001b[39m(\u001b[39mself\u001b[39m, activity_line_number: \u001b[39mint\u001b[39m \u001b[39m|\u001b[39m \u001b[39mNone\u001b[39;00m) \u001b[39m-\u001b[39m\u001b[39m>\u001b[39m \u001b[39mdict\u001b[39m \u001b[39m|\u001b[39m \u001b[39mlist\u001b[39m:\n\u001b[1;32m---> 43\u001b[0m     \u001b[39mwith\u001b[39;00m \u001b[39mopen\u001b[39m(\u001b[39mself\u001b[39;49m\u001b[39m.\u001b[39;49mfilename, \u001b[39m\"\u001b[39m\u001b[39mr\u001b[39m\u001b[39m\"\u001b[39m) \u001b[39mas\u001b[39;00m output_stream:\n\u001b[0;32m     44\u001b[0m         \u001b[39mif\u001b[39;00m activity_line_number \u001b[39m==\u001b[39m \u001b[39mint\u001b[39m:\n\u001b[0;32m     45\u001b[0m             \u001b[39mreturn\u001b[39;00m output_stream\u001b[39m.\u001b[39mreadlines()[activity_line_number]\u001b[39m.\u001b[39mstrip(\u001b[39m\"\u001b[39m\u001b[39m\\n\u001b[39;00m\u001b[39m\"\u001b[39m)\u001b[39m.\u001b[39mstrip(\u001b[39m\"\u001b[39m\u001b[39m,\u001b[39m\u001b[39m\"\u001b[39m)\n",
      "\u001b[1;31mAttributeError\u001b[0m: 'Activity_Logger' object has no attribute 'filename'"
     ]
    }
   ],
   "source": [
    "activities = activity_logger.get_activities(2)"
   ]
  },
  {
   "cell_type": "code",
   "execution_count": null,
   "metadata": {},
   "outputs": [
    {
     "data": {
      "text/plain": [
       "dict"
      ]
     },
     "execution_count": 8,
     "metadata": {},
     "output_type": "execute_result"
    }
   ],
   "source": [
    "type(data)"
   ]
  },
  {
   "cell_type": "code",
   "execution_count": null,
   "metadata": {},
   "outputs": [],
   "source": []
  },
  {
   "cell_type": "code",
   "execution_count": null,
   "metadata": {},
   "outputs": [],
   "source": []
  }
 ],
 "metadata": {
  "kernelspec": {
   "display_name": "github_actions-A3b8ki1y",
   "language": "python",
   "name": "python3"
  },
  "language_info": {
   "codemirror_mode": {
    "name": "ipython",
    "version": 3
   },
   "file_extension": ".py",
   "mimetype": "text/x-python",
   "name": "python",
   "nbconvert_exporter": "python",
   "pygments_lexer": "ipython3",
   "version": "3.11.0"
  },
  "orig_nbformat": 4
 },
 "nbformat": 4,
 "nbformat_minor": 2
}
