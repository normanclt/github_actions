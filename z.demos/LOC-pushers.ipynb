{
 "cells": [
  {
   "cell_type": "code",
   "execution_count": 1,
   "metadata": {},
   "outputs": [],
   "source": [
    "import sys\n",
    "sys.path.append(\"../\")"
   ]
  },
  {
   "cell_type": "code",
   "execution_count": 2,
   "metadata": {},
   "outputs": [],
   "source": [
    "from typing import Any\n",
    "from pathlib import Path\n",
    "from datetime import datetime\n",
    "from services.push_providers import Rsync_Provider\n",
    "from services.config_manager import Config_Manager\n",
    "from services.activity_logger import Activity_Logger\n",
    "from services.resource_connectors import SSHFS_Connector, Github_Connector"
   ]
  },
  {
   "cell_type": "code",
   "execution_count": 3,
   "metadata": {},
   "outputs": [],
   "source": [
    "config_manager = Config_Manager(\"remote_ip\", \"ssh_user\", \"ssh_private_key\", \"source_folder\", \"destination_folder\",\n",
    "                                \"log_directory\", \"repo_name\", \"branch_name\", \"organization_name\",\"github_api_token\",\"exclusions\")\n",
    "config_manager.remote_ip = \"52.74.243.47\"\n",
    "config_manager.ssh_user = \"ec2-user\"\n",
    "config_manager.ssh_private_key = Path(r\"D:\\Projects\\keys\\aws_instance_1\\aws1\\aws1_id_ed25519\").as_posix()\n",
    "config_manager.source_folder=\"../sync/random_files\"\n",
    "config_manager.destination_folder = \"/home/ec2-user/test\"\n",
    "config_manager.log_directory = \"/home/ec2-user/test/logs\"\n",
    "config_manager.repo_name='site_updates_windows_apps_extended'\n",
    "config_manager.branch_name='publish'\n",
    "config_manager.organization_name='bigfix'\n",
    "config_manager.exclusions =[]\n",
    "with open(Path(r\"D:\\Projects\\keys\\github_swottednorman\\norman_read_only_bgfix.txt\"),\"r\") as f:\n",
    "    config_manager.github_api_token = f.readline()\n"
   ]
  },
  {
   "cell_type": "code",
   "execution_count": 4,
   "metadata": {},
   "outputs": [
    {
     "name": "stdout",
     "output_type": "stream",
     "text": [
      "Testing existence of \"/home/ec2-user/test/logs/2023-09-30.log\"\n",
      "Log File: /home/ec2-user/test/logs/2023-09-30.log\n"
     ]
    },
    {
     "ename": "AttributeError",
     "evalue": "'Config_Manager' object has no attribute 'exclusions'",
     "output_type": "error",
     "traceback": [
      "\u001b[1;31m---------------------------------------------------------------------------\u001b[0m",
      "\u001b[1;31mAttributeError\u001b[0m                            Traceback (most recent call last)",
      "\u001b[1;32md:\\Projects\\github_actions\\z.demos\\LOC-pushers.ipynb Cell 4\u001b[0m line \u001b[0;36m4\n\u001b[0;32m      <a href='vscode-notebook-cell:/d%3A/Projects/github_actions/z.demos/LOC-pushers.ipynb#W3sZmlsZQ%3D%3D?line=1'>2</a>\u001b[0m al \u001b[39m=\u001b[39m Activity_Logger(config_manager,sshfs_c)\n\u001b[0;32m      <a href='vscode-notebook-cell:/d%3A/Projects/github_actions/z.demos/LOC-pushers.ipynb#W3sZmlsZQ%3D%3D?line=2'>3</a>\u001b[0m github01 \u001b[39m=\u001b[39m Github_Connector(config_manager)\n\u001b[1;32m----> <a href='vscode-notebook-cell:/d%3A/Projects/github_actions/z.demos/LOC-pushers.ipynb#W3sZmlsZQ%3D%3D?line=3'>4</a>\u001b[0m rsync \u001b[39m=\u001b[39m Rsync_Provider(config_manager, al)\n",
      "File \u001b[1;32md:\\Projects\\github_actions\\z.demos\\..\\services\\push_providers.py:38\u001b[0m, in \u001b[0;36mRsync_Provider.__init__\u001b[1;34m(self, config_manager, activity_logger, clear)\u001b[0m\n\u001b[0;32m     36\u001b[0m \u001b[39mself\u001b[39m\u001b[39m.\u001b[39mssh_user \u001b[39m=\u001b[39m config_manager\u001b[39m.\u001b[39mssh_user\n\u001b[0;32m     37\u001b[0m \u001b[39mself\u001b[39m\u001b[39m.\u001b[39mssh_private_key \u001b[39m=\u001b[39m config_manager\u001b[39m.\u001b[39mssh_private_key\n\u001b[1;32m---> 38\u001b[0m \u001b[39mself\u001b[39m\u001b[39m.\u001b[39mexclusions \u001b[39m=\u001b[39m config_manager\u001b[39m.\u001b[39;49mexclusions\n\u001b[0;32m     39\u001b[0m \u001b[39mself\u001b[39m\u001b[39m.\u001b[39mactivity_logger \u001b[39m=\u001b[39m activity_logger\n",
      "\u001b[1;31mAttributeError\u001b[0m: 'Config_Manager' object has no attribute 'exclusions'"
     ]
    }
   ],
   "source": [
    "sshfs_c = SSHFS_Connector(config_manager)\n",
    "al = Activity_Logger(config_manager,sshfs_c)\n",
    "github01 = Github_Connector(config_manager)\n",
    "rsync = Rsync_Provider(config_manager, al)"
   ]
  },
  {
   "cell_type": "code",
   "execution_count": 2,
   "metadata": {},
   "outputs": [
    {
     "ename": "NameError",
     "evalue": "name 'sshfs_c' is not defined",
     "output_type": "error",
     "traceback": [
      "\u001b[1;31m---------------------------------------------------------------------------\u001b[0m",
      "\u001b[1;31mNameError\u001b[0m                                 Traceback (most recent call last)",
      "\u001b[1;32md:\\Projects\\github_actions\\z.demos\\LOC-pushers.ipynb Cell 5\u001b[0m line \u001b[0;36m1\n\u001b[1;32m----> <a href='vscode-notebook-cell:/d%3A/Projects/github_actions/z.demos/LOC-pushers.ipynb#W5sZmlsZQ%3D%3D?line=0'>1</a>\u001b[0m ls_list\u001b[39m=\u001b[39msshfs_c\u001b[39m.\u001b[39mls(path\u001b[39m=\u001b[39m\u001b[39m\"\u001b[39m\u001b[39m/home/ec2-user/test/logs\u001b[39m\u001b[39m\"\u001b[39m,detail\u001b[39m=\u001b[39m\u001b[39mTrue\u001b[39;00m)\n\u001b[0;32m      <a href='vscode-notebook-cell:/d%3A/Projects/github_actions/z.demos/LOC-pushers.ipynb#W5sZmlsZQ%3D%3D?line=1'>2</a>\u001b[0m al\u001b[39m.\u001b[39mlatest_activity\n",
      "\u001b[1;31mNameError\u001b[0m: name 'sshfs_c' is not defined"
     ]
    }
   ],
   "source": [
    "ls_list=sshfs_c.ls(path=\"/home/ec2-user/test/logs\",detail=True)\n",
    "al.latest_activity"
   ]
  },
  {
   "cell_type": "code",
   "execution_count": 16,
   "metadata": {},
   "outputs": [
    {
     "data": {
      "text/plain": [
       "'86fbd90d7d0a962df7f90cac455d020e99ae580e'"
      ]
     },
     "execution_count": 16,
     "metadata": {},
     "output_type": "execute_result"
    }
   ],
   "source": [
    "github01.state_identifier"
   ]
  },
  {
   "cell_type": "code",
   "execution_count": 1,
   "metadata": {},
   "outputs": [
    {
     "ename": "NameError",
     "evalue": "name 'al' is not defined",
     "output_type": "error",
     "traceback": [
      "\u001b[1;31m---------------------------------------------------------------------------\u001b[0m",
      "\u001b[1;31mNameError\u001b[0m                                 Traceback (most recent call last)",
      "\u001b[1;32md:\\Projects\\github_actions\\z.demos\\LOC-pushers.ipynb Cell 7\u001b[0m line \u001b[0;36m1\n\u001b[1;32m----> <a href='vscode-notebook-cell:/d%3A/Projects/github_actions/z.demos/LOC-pushers.ipynb#X23sZmlsZQ%3D%3D?line=0'>1</a>\u001b[0m \u001b[39mif\u001b[39;00m al\u001b[39m.\u001b[39mlatest_activity \u001b[39m!=\u001b[39m github01\u001b[39m.\u001b[39mstate_identifier:\n\u001b[0;32m      <a href='vscode-notebook-cell:/d%3A/Projects/github_actions/z.demos/LOC-pushers.ipynb#X23sZmlsZQ%3D%3D?line=1'>2</a>\u001b[0m     rsync\u001b[39m.\u001b[39mpush(github01\u001b[39m.\u001b[39mstate_identifier)\n\u001b[0;32m      <a href='vscode-notebook-cell:/d%3A/Projects/github_actions/z.demos/LOC-pushers.ipynb#X23sZmlsZQ%3D%3D?line=3'>4</a>\u001b[0m \u001b[39melse\u001b[39;00m:\n",
      "\u001b[1;31mNameError\u001b[0m: name 'al' is not defined"
     ]
    }
   ],
   "source": [
    "if al.latest_activity != github01.state_identifier:\n",
    "    rsync.push(github01.state_identifier)\n",
    "\n",
    "else:\n",
    "    print(\"no pushing necessary\")"
   ]
  },
  {
   "cell_type": "code",
   "execution_count": null,
   "metadata": {},
   "outputs": [],
   "source": []
  }
 ],
 "metadata": {
  "kernelspec": {
   "display_name": "github_actions-xXwIkH-s",
   "language": "python",
   "name": "python3"
  },
  "language_info": {
   "codemirror_mode": {
    "name": "ipython",
    "version": 3
   },
   "file_extension": ".py",
   "mimetype": "text/x-python",
   "name": "python",
   "nbconvert_exporter": "python",
   "pygments_lexer": "ipython3",
   "version": "3.10.7"
  },
  "orig_nbformat": 4
 },
 "nbformat": 4,
 "nbformat_minor": 2
}
