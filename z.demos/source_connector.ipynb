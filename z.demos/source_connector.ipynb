{
 "cells": [
  {
   "cell_type": "code",
   "execution_count": 1,
   "metadata": {},
   "outputs": [],
   "source": [
    "import sys\n",
    "from github import Github, Auth\n",
    "from pathlib import Path\n",
    "\n",
    "sys.path.append(\"../\")"
   ]
  },
  {
   "cell_type": "code",
   "execution_count": 2,
   "metadata": {},
   "outputs": [],
   "source": [
    "from services.source_connectors import *\n",
    "from services.config_manager import Config_Manager"
   ]
  },
  {
   "cell_type": "code",
   "execution_count": 3,
   "metadata": {},
   "outputs": [],
   "source": [
    "config_manager = Config_Manager('repo_name','branch_name', 'organization_name','github_api_token', 'ssh_user', 'ssh_private_key', \"remote_ip\")"
   ]
  },
  {
   "cell_type": "code",
   "execution_count": 17,
   "metadata": {},
   "outputs": [
    {
     "name": "stdout",
     "output_type": "stream",
     "text": [
      "D:/Projects/keys/aws_instance_1/aws1/aws1_id_ed25519\n"
     ]
    }
   ],
   "source": [
    "config_manager.repo_name='site_updates_windows_apps_extended'\n",
    "config_manager.branch_name='publish'\n",
    "config_manager.organization_name='bigfix'\n",
    "config_manager.ssh_user ='ec2-user'\n",
    "config_manager.remote_ip='52.74.243.47'\n",
    "config_manager.ssh_private_key=Path(r\"D:\\Projects\\keys\\aws_instance_1\\aws1\\aws1_id_ed25519\").as_posix()\n",
    "print(config_manager.ssh_private_key)\n",
    "\n",
    "with open(Path(r\"D:\\Projects\\keys\\github_swottednorman\\norman_read_only_bgfix.txt\"),\"r\") as f:\n",
    "    config_manager.github_api_token = f.readline()\n",
    "\n",
    "# setattr(config,\"repo_name\", 'site_updates_windows_apps_extended')\n",
    "# setattr(config, \"branch_name\",\"publish\")\n",
    "# setattr(config,\"oganization_name\",\"bigfix\")"
   ]
  },
  {
   "cell_type": "code",
   "execution_count": 5,
   "metadata": {},
   "outputs": [],
   "source": [
    "#suwae = Github_Source(config_manager)"
   ]
  },
  {
   "cell_type": "code",
   "execution_count": 6,
   "metadata": {},
   "outputs": [],
   "source": [
    "#suwae.latest_commit"
   ]
  },
  {
   "cell_type": "code",
   "execution_count": 41,
   "metadata": {},
   "outputs": [
    {
     "name": "stderr",
     "output_type": "stream",
     "text": [
      "ic| source_connectors.py:80 in __new__() at 07:03:17.192\n",
      "ic| source_connectors.py:82 in __new__() at 07:03:17.203\n",
      "ic| source_connectors.py:87 in __init__() at 07:03:17.210\n",
      "ic| 'Initializing', ic(): None\n"
     ]
    },
    {
     "name": "stdout",
     "output_type": "stream",
     "text": [
      "Existing instance found!\n",
      "Instance Returned\n"
     ]
    }
   ],
   "source": [
    "ssh_connector = SSH_Connector(config_manager).open_sftp()"
   ]
  },
  {
   "cell_type": "code",
   "execution_count": 42,
   "metadata": {},
   "outputs": [
    {
     "name": "stdout",
     "output_type": "stream",
     "text": [
      "This is a test file written in AWS1 instance.\n",
      "\n"
     ]
    }
   ],
   "source": [
    "with ssh_connector.file(\"/home/ec2-user/rsync/RECIPES/text.txt\",\"r\") as f:\n",
    "    print(f.read().decode())\n",
    "    "
   ]
  },
  {
   "cell_type": "code",
   "execution_count": 20,
   "metadata": {},
   "outputs": [
    {
     "name": "stdout",
     "output_type": "stream",
     "text": [
      "None\n",
      "None\n"
     ]
    }
   ],
   "source": []
  },
  {
   "cell_type": "code",
   "execution_count": 23,
   "metadata": {},
   "outputs": [
    {
     "name": "stdout",
     "output_type": "stream",
     "text": [
      "None\n"
     ]
    }
   ],
   "source": [
    "with sftp as s:\n",
    "    print(s.chdir('/home/ec2-user'))"
   ]
  },
  {
   "cell_type": "code",
   "execution_count": null,
   "metadata": {},
   "outputs": [],
   "source": []
  }
 ],
 "metadata": {
  "kernelspec": {
   "display_name": "github_actions-A3b8ki1y",
   "language": "python",
   "name": "python3"
  },
  "language_info": {
   "codemirror_mode": {
    "name": "ipython",
    "version": 3
   },
   "file_extension": ".py",
   "mimetype": "text/x-python",
   "name": "python",
   "nbconvert_exporter": "python",
   "pygments_lexer": "ipython3",
   "version": "3.10.7"
  },
  "orig_nbformat": 4
 },
 "nbformat": 4,
 "nbformat_minor": 2
}
