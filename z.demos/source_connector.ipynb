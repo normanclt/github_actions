{
 "cells": [
  {
   "cell_type": "code",
   "execution_count": 1,
   "metadata": {},
   "outputs": [],
   "source": [
    "import sys\n",
    "sys.path.append(\"../\")"
   ]
  },
  {
   "cell_type": "code",
   "execution_count": 2,
   "metadata": {},
   "outputs": [],
   "source": [
    "from services.source_connectors import Source_Connector"
   ]
  },
  {
   "cell_type": "markdown",
   "metadata": {},
   "source": [
    "self.auth = Auth.Token(config.github_api_token)\n",
    "        self.github = Github(self.auth)\n",
    "        self.repo_name = config.repo_name\n",
    "        self.branch_name = config.branch_name\n",
    "        self.organization_name = config.organization_name"
   ]
  },
  {
   "cell_type": "code",
   "execution_count": null,
   "metadata": {},
   "outputs": [],
   "source": [
    "config = object\n",
    "config.repo_name = 'site_updates_windows_apps_extended'\n",
    "config.branch_name = 'publish'\n",
    "config.\n"
   ]
  },
  {
   "cell_type": "code",
   "execution_count": null,
   "metadata": {},
   "outputs": [],
   "source": [
    "site_updates_windows_apps_extended = Source_Connector()"
   ]
  }
 ],
 "metadata": {
  "kernelspec": {
   "display_name": "github_actions-A3b8ki1y",
   "language": "python",
   "name": "python3"
  },
  "language_info": {
   "codemirror_mode": {
    "name": "ipython",
    "version": 3
   },
   "file_extension": ".py",
   "mimetype": "text/x-python",
   "name": "python",
   "nbconvert_exporter": "python",
   "pygments_lexer": "ipython3",
   "version": "3.11.0"
  },
  "orig_nbformat": 4
 },
 "nbformat": 4,
 "nbformat_minor": 2
}
