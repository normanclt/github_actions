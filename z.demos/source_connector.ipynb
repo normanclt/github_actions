{
 "cells": [
  {
   "cell_type": "code",
   "execution_count": 1,
   "metadata": {},
   "outputs": [],
   "source": [
    "import sys\n",
    "from github import Github, Auth\n",
    "from pathlib import Path\n",
    "\n",
    "sys.path.append(\"../\")"
   ]
  },
  {
   "cell_type": "code",
   "execution_count": 2,
   "metadata": {},
   "outputs": [],
   "source": [
    "from services.source_connectors import *\n",
    "from services.config_manager import Config_Manager"
   ]
  },
  {
   "cell_type": "markdown",
   "metadata": {},
   "source": [
    "self.auth = Auth.Token(config.github_api_token)\n",
    "        self.github = Github(self.auth)\n",
    "        self.repo_name = config.repo_name\n",
    "        self.branch_name = config.branch_name\n",
    "        self.organization_name = config.organization_name"
   ]
  },
  {
   "cell_type": "code",
   "execution_count": 3,
   "metadata": {},
   "outputs": [],
   "source": [
    "config_manager = Config_Manager('repo_name','branch_name', 'organization_name','github_api_token')"
   ]
  },
  {
   "cell_type": "code",
   "execution_count": 4,
   "metadata": {},
   "outputs": [],
   "source": [
    "config_manager.repo_name='site_updates_windows_apps_extended'\n",
    "config_manager.branch_name='publish'\n",
    "config_manager.organization_name='bigfix'\n",
    "\n",
    "with open(Path(r\"D:\\Projects\\keys\\github_swottednorman\\norman_read_only_bgfix.txt\"),\"r\") as f:\n",
    "    config_manager.github_api_token = f.readline()\n",
    "\n",
    "# setattr(config,\"repo_name\", 'site_updates_windows_apps_extended')\n",
    "# setattr(config, \"branch_name\",\"publish\")\n",
    "# setattr(config,\"oganization_name\",\"bigfix\")"
   ]
  },
  {
   "cell_type": "code",
   "execution_count": 5,
   "metadata": {},
   "outputs": [
    {
     "name": "stderr",
     "output_type": "stream",
     "text": [
      "ic| 'Creating Instance'\n",
      "ic| source_connectors.py:22 in __new__() at 05:17:17.426\n"
     ]
    },
    {
     "name": "stdout",
     "output_type": "stream",
     "text": [
      "Instance Returned\n"
     ]
    }
   ],
   "source": [
    "suwae = Github_Source(config_manager)"
   ]
  },
  {
   "cell_type": "code",
   "execution_count": 8,
   "metadata": {},
   "outputs": [],
   "source": [
    "branch = suwae.get_branch()"
   ]
  },
  {
   "cell_type": "code",
   "execution_count": 12,
   "metadata": {},
   "outputs": [
    {
     "data": {
      "text/plain": [
       "Commit(sha=\"26f2919da987586cf175d71ee4362e66cf5b362a\")"
      ]
     },
     "execution_count": 12,
     "metadata": {},
     "output_type": "execute_result"
    }
   ],
   "source": [
    "branch.get_commit('publish')"
   ]
  },
  {
   "cell_type": "code",
   "execution_count": null,
   "metadata": {},
   "outputs": [],
   "source": []
  }
 ],
 "metadata": {
  "kernelspec": {
   "display_name": "github_actions-A3b8ki1y",
   "language": "python",
   "name": "python3"
  },
  "language_info": {
   "codemirror_mode": {
    "name": "ipython",
    "version": 3
   },
   "file_extension": ".py",
   "mimetype": "text/x-python",
   "name": "python",
   "nbconvert_exporter": "python",
   "pygments_lexer": "ipython3",
   "version": "3.10.7"
  },
  "orig_nbformat": 4
 },
 "nbformat": 4,
 "nbformat_minor": 2
}
