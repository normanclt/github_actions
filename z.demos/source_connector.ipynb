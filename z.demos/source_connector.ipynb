{
 "cells": [
  {
   "cell_type": "code",
   "execution_count": 5,
   "metadata": {},
   "outputs": [],
   "source": [
    "import sys\n",
    "from github import Github, Auth\n",
    "from pathlib import Path\n",
    "\n",
    "sys.path.append(\"../\")"
   ]
  },
  {
   "cell_type": "code",
   "execution_count": 10,
   "metadata": {},
   "outputs": [],
   "source": [
    "from services.resource_connectors import *\n",
    "from services.config_manager import Config_Manager\n",
    "from services.activity_logger import Activity_Logger\n"
   ]
  },
  {
   "cell_type": "code",
   "execution_count": 7,
   "metadata": {},
   "outputs": [],
   "source": [
    "config_manager = Config_Manager('repo_name','branch_name', 'organization_name','github_api_token', 'ssh_user', 'ssh_private_key', \"remote_ip\")"
   ]
  },
  {
   "cell_type": "markdown",
   "metadata": {},
   "source": [
    "#### Structure config_manager data:\n",
    "Decide dict?\n",
    "Separate attrib to a property?"
   ]
  },
  {
   "cell_type": "code",
   "execution_count": 8,
   "metadata": {},
   "outputs": [
    {
     "name": "stdout",
     "output_type": "stream",
     "text": [
      "D:/Projects/keys/aws_instance_1/aws1/aws1_id_ed25519\n"
     ]
    }
   ],
   "source": [
    "config_manager.repo_name='site_updates_windows_apps_extended'\n",
    "config_manager.branch_name='publish'\n",
    "config_manager.organization_name='bigfix'\n",
    "config_manager.ssh_user ='ec2-user'\n",
    "config_manager.remote_ip='52.74.243.47'\n",
    "config_manager.ssh_private_key=Path(r\"D:\\Projects\\keys\\aws_instance_1\\aws1\\aws1_id_ed25519\").as_posix()\n",
    "config_manager.log_directory=\"/home/ec2-user/rsync/logs\"\n",
    "print(config_manager.ssh_private_key)\n",
    "\n",
    "with open(Path(r\"D:\\Projects\\keys\\github_swottednorman\\norman_read_only_bgfix.txt\"),\"r\") as f:\n",
    "    config_manager.github_api_token = f.readline()\n",
    "\n",
    "# setattr(config,\"repo_name\", 'site_updates_windows_apps_extended')\n",
    "# setattr(config, \"branch_name\",\"publish\")\n",
    "# setattr(config,\"oganization_name\",\"bigfix\")"
   ]
  },
  {
   "cell_type": "code",
   "execution_count": 9,
   "metadata": {},
   "outputs": [
    {
     "ename": "ModuleNotFoundError",
     "evalue": "No module named 'services.source_connectors'",
     "output_type": "error",
     "traceback": [
      "\u001b[1;31m---------------------------------------------------------------------------\u001b[0m",
      "\u001b[1;31mModuleNotFoundError\u001b[0m                       Traceback (most recent call last)",
      "\u001b[1;32md:\\Projects\\github_actions\\z.demos\\source_connector.ipynb Cell 6\u001b[0m line \u001b[0;36m1\n\u001b[1;32m----> <a href='vscode-notebook-cell:/d%3A/Projects/github_actions/z.demos/source_connector.ipynb#X21sZmlsZQ%3D%3D?line=0'>1</a>\u001b[0m \u001b[39mfrom\u001b[39;00m \u001b[39mservices\u001b[39;00m\u001b[39m.\u001b[39;00m\u001b[39mactivity_logger\u001b[39;00m \u001b[39mimport\u001b[39;00m Activity_Logger\n\u001b[0;32m      <a href='vscode-notebook-cell:/d%3A/Projects/github_actions/z.demos/source_connector.ipynb#X21sZmlsZQ%3D%3D?line=2'>3</a>\u001b[0m sshfs_connector \u001b[39m=\u001b[39m SSHFS_Connector(config_manager)\n",
      "File \u001b[1;32md:\\Projects\\github_actions\\z.demos\\..\\services\\activity_logger.py:6\u001b[0m\n\u001b[0;32m      4\u001b[0m \u001b[39mfrom\u001b[39;00m \u001b[39mtyping\u001b[39;00m \u001b[39mimport\u001b[39;00m \u001b[39m*\u001b[39m\n\u001b[0;32m      5\u001b[0m \u001b[39mfrom\u001b[39;00m \u001b[39micecream\u001b[39;00m\u001b[39m.\u001b[39;00m\u001b[39micecream\u001b[39;00m \u001b[39mimport\u001b[39;00m ic\n\u001b[1;32m----> 6\u001b[0m \u001b[39mfrom\u001b[39;00m \u001b[39mservices\u001b[39;00m\u001b[39m.\u001b[39;00m\u001b[39msource_connectors\u001b[39;00m \u001b[39mimport\u001b[39;00m SSH_Connector\n\u001b[0;32m      9\u001b[0m \u001b[39mclass\u001b[39;00m \u001b[39mActivity_Logger\u001b[39;00m(\u001b[39mobject\u001b[39m):\n\u001b[0;32m     10\u001b[0m     _instance \u001b[39m=\u001b[39m \u001b[39mNone\u001b[39;00m\n",
      "\u001b[1;31mModuleNotFoundError\u001b[0m: No module named 'services.source_connectors'"
     ]
    }
   ],
   "source": [
    "activity_logger = Acti\n",
    "sshfs_connector = SSHFS_Connector(config_manager)"
   ]
  },
  {
   "cell_type": "code",
   "execution_count": 11,
   "metadata": {},
   "outputs": [],
   "source": [
    "info = sshfs_connector.info('/home/ec2-user')"
   ]
  },
  {
   "cell_type": "code",
   "execution_count": 21,
   "metadata": {},
   "outputs": [
    {
     "name": "stdout",
     "output_type": "stream",
     "text": [
      "[b'This is a test file written in AWS1 instance.\\n', b'\\n', b'These are other lines\\n', b'Where the 4th line comes 4th, counting the empty line.\\n']\n"
     ]
    }
   ],
   "source": [
    "with sshfs_connector.open(\"/home/ec2-user/rsync/RECIPES/text.txt\") as f:\n",
    "    print(f.readlines())"
   ]
  },
  {
   "cell_type": "code",
   "execution_count": 14,
   "metadata": {},
   "outputs": [
    {
     "name": "stdout",
     "output_type": "stream",
     "text": [
      "[]\n"
     ]
    }
   ],
   "source": [
    "print(sshfs_connector.ls(\"/home/ec2-user/rsync/logs/\"))"
   ]
  },
  {
   "cell_type": "code",
   "execution_count": 16,
   "metadata": {},
   "outputs": [
    {
     "name": "stdout",
     "output_type": "stream",
     "text": [
      "['/home/ec2-user/rsync/RECIPES/test.txt', '/home/ec2-user/rsync/RECIPES/text.txt']\n"
     ]
    }
   ],
   "source": [
    "print(sshfs_connector.ls(\"/home/ec2-user/rsync/RECIPES/\"))"
   ]
  },
  {
   "cell_type": "code",
   "execution_count": 20,
   "metadata": {},
   "outputs": [
    {
     "name": "stdout",
     "output_type": "stream",
     "text": [
      "{'size': 38, 'type': 'directory', 'gid': 1000, 'uid': 1000, 'time': datetime.datetime(2023, 9, 21, 21, 38, 29), 'mtime': datetime.datetime(2023, 9, 27, 22, 59, 25), 'permissions': 16877, 'name': '/home/ec2-user/rsync/RECIPES/'}\n"
     ]
    }
   ],
   "source": [
    "print(sshfs_connector.info(\"/home/ec2-user/rsync/RECIPES/\"))"
   ]
  },
  {
   "cell_type": "code",
   "execution_count": 22,
   "metadata": {},
   "outputs": [
    {
     "name": "stdout",
     "output_type": "stream",
     "text": [
      "['/home/ec2-user/rsync/RECIPES/test.txt', '/home/ec2-user/rsync/RECIPES/text.txt']\n"
     ]
    }
   ],
   "source": [
    "files = sshfs_connector.ls(\"/home/ec2-user/rsync/RECIPES\")\n",
    "print(files)"
   ]
  },
  {
   "cell_type": "code",
   "execution_count": 27,
   "metadata": {},
   "outputs": [],
   "source": [
    "files_list = []\n",
    "for file in files:\n",
    "    files_list.append(sshfs_connector.info(file)['time'])"
   ]
  },
  {
   "cell_type": "code",
   "execution_count": 33,
   "metadata": {},
   "outputs": [],
   "source": [
    "#search for log files:\n",
    "import datetime"
   ]
  },
  {
   "cell_type": "code",
   "execution_count": 40,
   "metadata": {},
   "outputs": [
    {
     "name": "stdout",
     "output_type": "stream",
     "text": [
      "[Errno 2] No such file or directory\n"
     ]
    }
   ],
   "source": [
    "import sshfs\n",
    "try:\n",
    "    with sshfs_connector.open(f\"/home/ec2-user/rsync/logs/{datetime.datetime.now().date()}.log\",\"r\") as stream:\n",
    "        print(f\"{stream.read}\")\n",
    "except FileNotFoundError as e:\n",
    "    "
   ]
  },
  {
   "cell_type": "code",
   "execution_count": null,
   "metadata": {},
   "outputs": [],
   "source": []
  }
 ],
 "metadata": {
  "kernelspec": {
   "display_name": "github_actions-A3b8ki1y",
   "language": "python",
   "name": "python3"
  },
  "language_info": {
   "codemirror_mode": {
    "name": "ipython",
    "version": 3
   },
   "file_extension": ".py",
   "mimetype": "text/x-python",
   "name": "python",
   "nbconvert_exporter": "python",
   "pygments_lexer": "ipython3",
   "version": "3.10.7"
  },
  "orig_nbformat": 4
 },
 "nbformat": 4,
 "nbformat_minor": 2
}
